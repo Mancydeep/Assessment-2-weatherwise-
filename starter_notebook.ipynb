{
  "cells": [
    {
      "cell_type": "markdown",
      "metadata": {
        "id": "view-in-github",
        "colab_type": "text"
      },
      "source": [
        "<a href=\"https://colab.research.google.com/github/Mancydeep/Assessment-2-weatherwise-/blob/main/starter_notebook.ipynb\" target=\"_parent\"><img src=\"https://colab.research.google.com/assets/colab-badge.svg\" alt=\"Open In Colab\"/></a>"
      ]
    },
    {
      "cell_type": "code",
      "execution_count": null,
      "id": "70c3f3f1",
      "metadata": {
        "id": "70c3f3f1"
      },
      "outputs": [],
      "source": [
        "!pip install pyinputplus matplotlib requests"
      ]
    },
    {
      "cell_type": "markdown",
      "id": "59ae7543",
      "metadata": {
        "id": "59ae7543"
      },
      "source": [
        "## 📦 Setup and Configuration\n",
        "Import required packages and setup environment."
      ]
    },
    {
      "cell_type": "code",
      "execution_count": null,
      "id": "f1dd051e",
      "metadata": {
        "id": "f1dd051e"
      },
      "outputs": [],
      "source": [
        "import requests\n",
        "import os\n",
        "import matplotlib.pyplot as plt\n",
        "import pyinputplus as pyip\n",
        "\n",
        "# Add any other setup code here"
      ]
    },
    {
      "cell_type": "markdown",
      "id": "f736ade3",
      "metadata": {
        "id": "f736ade3"
      },
      "source": [
        "## 🌤️ Weather Data Functions"
      ]
    },
    {
      "cell_type": "code",
      "execution_count": null,
      "id": "7a2c7cd0",
      "metadata": {
        "id": "7a2c7cd0"
      },
      "outputs": [],
      "source": [
        "# Define get_weather_data() function here\n",
        "def get_weather_data(location, forecast_days=5):\n",
        "    \"\"\"\n",
        "    Obtain forecast details for a selected city and duration via wttr.in, limiting the days as recommended.\n",
        "    \"\"\"\n",
        "    endpoint = f\"https://wttr.in/{location}?format=j1\"\n",
        "    try:\n",
        "        result = requests.get(endpoint)\n",
        "        result.raise_for_status()\n",
        "        data = result.json()\n",
        "        data['weather'] = data['weather'][:forecast_days]\n",
        "        return data\n",
        "    except Exception as error:\n",
        "        print(f\"Unable to retrieve forecast: {error}\")\n",
        "        return None\n"
      ]
    },
    {
      "cell_type": "markdown",
      "id": "8a744fdc",
      "metadata": {
        "id": "8a744fdc"
      },
      "source": [
        "## 📊 Visualisation Functions"
      ]
    },
    {
      "cell_type": "code",
      "execution_count": null,
      "id": "9dc3bf85",
      "metadata": {
        "id": "9dc3bf85"
      },
      "outputs": [],
      "source": [
        "# Define create_temperature_visualisation() and create_precipitation_visualisation() here\n",
        "\n",
        "def create_temperature_visualisation(weather_data, output_type='display'):\n",
        "    \"\"\"\n",
        "    Display max & min temperatures as stacked horizontal bars with colors.\n",
        "    \"\"\"\n",
        "    dates = []\n",
        "    max_temps = []\n",
        "    min_temps = []\n",
        "\n",
        "    for day in weather_data['weather']:\n",
        "        dates.append(day['date'])\n",
        "        max_temps.append(float(day['maxtempC']))\n",
        "        min_temps.append(float(day['mintempC']))\n",
        "\n",
        "    plt.figure(figsize=(8, 5))\n",
        "    y_pos = range(len(dates))\n",
        "\n",
        "    # Plot min temp as bars, then add max-min stacked over it\n",
        "    plt.barh(y_pos, min_temps, color='#82CFFD', label='Min Temp (°C)')\n",
        "    max_min_diff = [max_temps[i] - min_temps[i] for i in range(len(max_temps))]\n",
        "    plt.barh(y_pos, max_min_diff, left=min_temps, color='#FF6F61', label='Max Temp range')\n",
        "\n",
        "    plt.yticks(y_pos, dates)\n",
        "    plt.xlabel(\"Temperature (°C)\")\n",
        "    plt.title(\"Temperature Range per Day\")\n",
        "    plt.legend()\n",
        "    plt.grid(True, axis='x', linestyle='--', alpha=0.6)\n",
        "    plt.tight_layout()\n",
        "    plt.show()\n"
      ]
    },
    {
      "cell_type": "code",
      "source": [
        "def create_precipitation_visualisation(weather_data, output_type='display'):\n",
        "    \"\"\"\n",
        "    Show precipitation totals as dot plot with sizes proportional to rainfall.\n",
        "    \"\"\"\n",
        "    dates = []\n",
        "    totals = []\n",
        "\n",
        "    for day in weather_data['weather']:\n",
        "        dates.append(day['date'])\n",
        "        total_rain = sum(float(hour['precipMM']) for hour in day['hourly'])\n",
        "        totals.append(total_rain)\n",
        "\n",
        "    plt.figure(figsize=(8, 5))\n",
        "    x_pos = range(len(dates))\n",
        "\n",
        "    # Variable dot sizes scaled for visibility\n",
        "    sizes = [t * 100 for t in totals]\n",
        "\n",
        "    plt.scatter(x_pos, totals, s=sizes, c='#007acc', alpha=0.7, edgecolors='w', linewidth=1.5)\n",
        "    plt.xticks(x_pos, dates)\n",
        "    plt.xlabel(\"Date\")\n",
        "    plt.ylabel(\"Total Precipitation (mm)\")\n",
        "    plt.title(\"Rainfall Dot Plot\")\n",
        "    plt.grid(True, linestyle='--', alpha=0.6)\n",
        "    plt.tight_layout()\n",
        "    plt.show()\n"
      ],
      "metadata": {
        "id": "HpOlQylYG5Ho"
      },
      "id": "HpOlQylYG5Ho",
      "execution_count": null,
      "outputs": []
    },
    {
      "cell_type": "code",
      "source": [
        "def create_humidity_visualisation(weather_data, output_type='display'):\n",
        "    \"\"\"\n",
        "    Average humidity per day shown as a smooth gradient filled area chart.\n",
        "    \"\"\"\n",
        "    dates = []\n",
        "    avg_humidity = []\n",
        "\n",
        "    for day in weather_data['weather']:\n",
        "        dates.append(day['date'])\n",
        "        humid_vals = [float(hour['humidity']) for hour in day['hourly']]\n",
        "        avg = sum(humid_vals) / len(humid_vals)\n",
        "        avg_humidity.append(avg)\n",
        "\n",
        "    plt.figure(figsize=(8, 5))\n",
        "    plt.plot(dates, avg_humidity, color='#388E3C', lw=2)\n",
        "\n",
        "    # Color fill with gradient alpha\n",
        "    for i in range(len(dates)-1):\n",
        "        plt.fill_between(dates[i:i+2], avg_humidity[i:i+2], color='#A5D6A7', alpha=0.4*(i+1)/len(dates))\n",
        "\n",
        "    plt.title(\"Average Daily Humidity\")\n",
        "    plt.xlabel(\"Date\")\n",
        "    plt.ylabel(\"Humidity (%)\")\n",
        "    plt.grid(alpha=0.4, linestyle='--')\n",
        "    plt.tight_layout()\n",
        "    plt.show()\n"
      ],
      "metadata": {
        "id": "QZPrVzuAa3IZ"
      },
      "id": "QZPrVzuAa3IZ",
      "execution_count": null,
      "outputs": []
    },
    {
      "cell_type": "markdown",
      "id": "9f95d160",
      "metadata": {
        "id": "9f95d160"
      },
      "source": [
        "## 🤖 Natural Language Processing"
      ]
    },
    {
      "cell_type": "code",
      "execution_count": null,
      "id": "bcc5833e",
      "metadata": {
        "id": "bcc5833e"
      },
      "outputs": [],
      "source": [
        "# Define parse_weather_question() and generate_weather_response() here\n",
        "def parse_weather_question(question):\n",
        "    \"\"\"\n",
        "    Extracts city, feature, and day from a user's weather query.\n",
        "    \"\"\"\n",
        "    question = question.lower()\n",
        "    features = ['temperature', 'precipitation']\n",
        "    time_markers = ['today', 'tomorrow', 'day after tomorrow']\n",
        "    city = None\n",
        "    focus = None\n",
        "    day_ref = 'today'\n",
        "\n",
        "    for f in features:\n",
        "        if f in question:\n",
        "            focus = f\n",
        "            break\n",
        "    for t in time_markers:\n",
        "        if t in question:\n",
        "            day_ref = t\n",
        "            break\n",
        "\n",
        "    parts = question.split()\n",
        "    if 'in' in parts:\n",
        "        idx = parts.index('in')\n",
        "        if idx + 1 < len(parts):\n",
        "            city = parts[idx + 1]\n",
        "    else:\n",
        "        city = 'Perth'\n",
        "    return {'city': city, 'element': focus, 'period': day_ref}\n"
      ]
    },
    {
      "cell_type": "markdown",
      "id": "0d85225e",
      "metadata": {
        "id": "0d85225e"
      },
      "source": [
        "## 🧭 User Interface"
      ]
    },
    {
      "cell_type": "code",
      "execution_count": null,
      "id": "fa6cb0f6",
      "metadata": {
        "id": "fa6cb0f6"
      },
      "outputs": [],
      "source": [
        "# Define menu functions using pyinputplus or ipywidgets here\n",
        "def weather_menu():\n",
        "    \"\"\"\n",
        "    Minimal menu interface for weather forecast focusing on temperature and precipitation.\n",
        "    \"\"\"\n",
        "    print(\"=== Weather Hub ===\")\n",
        "    while True:\n",
        "        print(\"\\nSelect option:\")\n",
        "        print(\"1 - Get Overall Weather Summary\")\n",
        "        print(\"2 - Ask a Weather Question\")\n",
        "        print(\"3 - Display Temperature Chart\")\n",
        "        print(\"4 - Display Precipitation Chart\")\n",
        "        print(\"5 - Exit\")\n",
        "\n",
        "        choice = pyip.inputChoice(['1','2','3','4','5'], prompt=\"Choose (1-5): \")\n",
        "        if choice == '5':\n",
        "            print(\"Closing Weather Hub. Goodbye!\")\n",
        "            break\n",
        "\n",
        "        city = pyip.inputStr(prompt=\"Enter city name: \")\n",
        "        data = get_weather_data(city, 3)\n",
        "        if not data:\n",
        "            print(\"Error retrieving data. Please try again.\")\n",
        "            continue\n",
        "\n",
        "        if choice == '1':\n",
        "            print(generate_weather_response({'city': city, 'element': None, 'period': 'today'}, data))\n",
        "        elif choice == '2':\n",
        "            query = pyip\n"
      ]
    },
    {
      "cell_type": "markdown",
      "id": "d643a53c",
      "metadata": {
        "id": "d643a53c"
      },
      "source": [
        "## 🧩 Main Application Logic"
      ]
    },
    {
      "cell_type": "code",
      "execution_count": null,
      "id": "a9e2e805",
      "metadata": {
        "id": "a9e2e805"
      },
      "outputs": [],
      "source": [
        "# Tie everything together here\n",
        "def generate_weather_response(parsed_question, weather_data):\n",
        "    \"\"\"\n",
        "    Generate a clear response based on temperature or precipitation forecast.\n",
        "    \"\"\"\n",
        "    city = parsed_question['city']\n",
        "    element = parsed_question['element']\n",
        "    period = parsed_question['period']\n",
        "    day_index = 0\n",
        "    if period == 'tomorrow':\n",
        "        day_index = 1\n",
        "    elif period == 'day after tomorrow':\n",
        "        day_index = 2\n",
        "\n",
        "    try:\n",
        "        day = weather_data['weather'][day_index]\n",
        "        if element in ['temperature', None]:\n",
        "            high = day['maxtempC']\n",
        "            low = day['mintempC']\n",
        "            return f\"In {city.title()} on {day['date']}, temperatures will range between {low}°C and {high}°C.\"\n",
        "        elif element in ['precipitation', 'rain']:\n",
        "            total_rain = sum(float(h['precipMM']) for h in day['hourly'])\n",
        "            return f\"In {city.title()} on {day['date']}, total precipitation is expected to be {total_rain:.1f} mm.\"\n",
        "        else:\n",
        "            return \"Sorry, only temperature and precipitation data are supported.\"\n",
        "    except Exception:\n",
        "        return \"Sorry, weather data is not available for the requested time.\"\n"
      ]
    },
    {
      "cell_type": "markdown",
      "id": "fde44479",
      "metadata": {
        "id": "fde44479"
      },
      "source": [
        "## 🧪 Testing and Examples"
      ]
    },
    {
      "cell_type": "code",
      "execution_count": null,
      "id": "4e573901",
      "metadata": {
        "id": "4e573901"
      },
      "outputs": [],
      "source": [
        "# Include sample input/output for each function"
      ]
    },
    {
      "cell_type": "markdown",
      "id": "d2885880",
      "metadata": {
        "id": "d2885880"
      },
      "source": [
        "## 🗂️ AI Prompting Log (Optional)\n",
        "Add markdown cells here summarising prompts used or link to AI conversations in the `ai-conversations/` folder."
      ]
    }
  ],
  "metadata": {
    "language_info": {
      "name": "python"
    },
    "colab": {
      "provenance": [],
      "include_colab_link": true
    },
    "kernelspec": {
      "name": "python3",
      "display_name": "Python 3"
    }
  },
  "nbformat": 4,
  "nbformat_minor": 5
}