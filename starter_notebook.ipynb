{
  "cells": [
    {
      "cell_type": "markdown",
      "metadata": {
        "id": "view-in-github",
        "colab_type": "text"
      },
      "source": [
        "<a href=\"https://colab.research.google.com/github/Mancydeep/Assessment-2-weatherwise-/blob/main/starter_notebook.ipynb\" target=\"_parent\"><img src=\"https://colab.research.google.com/assets/colab-badge.svg\" alt=\"Open In Colab\"/></a>"
      ]
    },
    {
      "cell_type": "code",
      "execution_count": null,
      "id": "70c3f3f1",
      "metadata": {
        "id": "70c3f3f1"
      },
      "outputs": [],
      "source": [
        "!pip install pyinputplus matplotlib requests"
      ]
    },
    {
      "cell_type": "markdown",
      "id": "59ae7543",
      "metadata": {
        "id": "59ae7543"
      },
      "source": [
        "## 📦 Setup and Configuration\n",
        "Import required packages and setup environment."
      ]
    },
    {
      "cell_type": "code",
      "execution_count": null,
      "id": "f1dd051e",
      "metadata": {
        "id": "f1dd051e"
      },
      "outputs": [],
      "source": [
        "import requests\n",
        "import os\n",
        "import matplotlib.pyplot as plt\n",
        "import pyinputplus as pyip\n",
        "\n",
        "# Add any other setup code here"
      ]
    },
    {
      "cell_type": "markdown",
      "id": "f736ade3",
      "metadata": {
        "id": "f736ade3"
      },
      "source": [
        "## 🌤️ Weather Data Functions"
      ]
    },
    {
      "cell_type": "code",
      "execution_count": null,
      "id": "7a2c7cd0",
      "metadata": {
        "id": "7a2c7cd0"
      },
      "outputs": [],
      "source": [
        "# Define get_weather_data() function here\n",
        "def get_weather_data(location, forecast_days=5):\n",
        "    \"\"\"\n",
        "    Obtain forecast details for a selected city and duration via wttr.in, limiting the days as recommended.\n",
        "    \"\"\"\n",
        "    endpoint = f\"https://wttr.in/{location}?format=j1\"\n",
        "    try:\n",
        "        result = requests.get(endpoint)\n",
        "        result.raise_for_status()\n",
        "        data = result.json()\n",
        "        data['weather'] = data['weather'][:forecast_days]\n",
        "        return data\n",
        "    except Exception as error:\n",
        "        print(f\"Unable to retrieve forecast: {error}\")\n",
        "        return None\n"
      ]
    },
    {
      "cell_type": "markdown",
      "id": "8a744fdc",
      "metadata": {
        "id": "8a744fdc"
      },
      "source": [
        "## 📊 Visualisation Functions"
      ]
    },
    {
      "cell_type": "code",
      "execution_count": null,
      "id": "9dc3bf85",
      "metadata": {
        "id": "9dc3bf85"
      },
      "outputs": [],
      "source": [
        "# Define create_temperature_visualisation() and create_precipitation_visualisation() here\n",
        "\n",
        "def create_temperature_visualisation(weather_data, output_type='display'):\n",
        "    \"\"\"\n",
        "    Plot daily temperature ranges using a steady, clear area chart.\n",
        "    \"\"\"\n",
        "    day_labels = []\n",
        "    highs = []\n",
        "    lows = []\n",
        "\n",
        "    for section in weather_data['weather']:\n",
        "        day_labels.append(section['date'])\n",
        "        highs.append(float(section['maxtempC']))\n",
        "        lows.append(float(section['mintempC']))\n",
        "\n",
        "    plt.figure()\n",
        "    plt.fill_between(day_labels, lows, highs, color='lightgrey', alpha=0.7, label='Temperature Range (°C)')\n",
        "    plt.plot(day_labels, highs, color='black', label='Max Temp')\n",
        "    plt.plot(day_labels, lows, color='grey', label='Min Temp')\n",
        "    plt.title(\"Temperature Forecast\")\n",
        "    plt.xlabel(\"Date\")\n",
        "    plt.ylabel(\"Temp (°C)\")\n",
        "    plt.legend()\n",
        "    plt.tight_layout()\n",
        "    plt.show()"
      ]
    },
    {
      "cell_type": "code",
      "source": [
        "def create_precipitation_visualisation(weather_data, output_type='display'):\n",
        "    \"\"\"\n",
        "    Displays daily precipitation totals using a basic, clear line plot.\n",
        "    \"\"\"\n",
        "    x_dates = []\n",
        "    daily_precip = []\n",
        "    for day in weather_data['weather']:\n",
        "        x_dates.append(day['date'])\n",
        "        total_precip = sum(float(hour['precipMM']) for hour in day['hourly'])\n",
        "        daily_precip.append(total_precip)\n",
        "\n",
        "    plt.figure()\n",
        "    plt.plot(x_dates, daily_precip, marker='o', color='navy', label='Precipitation (mm)')\n",
        "    plt.title(\"Daily Precipitation Amount\")\n",
        "    plt.xlabel(\"Date\")\n",
        "    plt.ylabel(\"Millimeters\")\n",
        "    plt.legend()\n",
        "    plt.tight_layout()\n",
        "    plt.show()"
      ],
      "metadata": {
        "id": "HpOlQylYG5Ho"
      },
      "id": "HpOlQylYG5Ho",
      "execution_count": null,
      "outputs": []
    },
    {
      "cell_type": "markdown",
      "id": "9f95d160",
      "metadata": {
        "id": "9f95d160"
      },
      "source": [
        "## 🤖 Natural Language Processing"
      ]
    },
    {
      "cell_type": "code",
      "execution_count": null,
      "id": "bcc5833e",
      "metadata": {
        "id": "bcc5833e"
      },
      "outputs": [],
      "source": [
        "# Define parse_weather_question() and generate_weather_response() here\n",
        "def parse_weather_question(question):\n",
        "    \"\"\"\n",
        "    Extracts city, feature, and day from a user's weather query.\n",
        "    \"\"\"\n",
        "    question = question.lower()\n",
        "    features = ['temperature', 'precipitation']\n",
        "    time_markers = ['today', 'tomorrow', 'day after tomorrow']\n",
        "    city = None\n",
        "    focus = None\n",
        "    day_ref = 'today'\n",
        "\n",
        "    for f in features:\n",
        "        if f in question:\n",
        "            focus = f\n",
        "            break\n",
        "    for t in time_markers:\n",
        "        if t in question:\n",
        "            day_ref = t\n",
        "            break\n",
        "\n",
        "    parts = question.split()\n",
        "    if 'in' in parts:\n",
        "        idx = parts.index('in')\n",
        "        if idx + 1 < len(parts):\n",
        "            city = parts[idx + 1]\n",
        "    else:\n",
        "        city = 'Perth'\n",
        "    return {'city': city, 'element': focus, 'period': day_ref}\n"
      ]
    },
    {
      "cell_type": "markdown",
      "id": "0d85225e",
      "metadata": {
        "id": "0d85225e"
      },
      "source": [
        "## 🧭 User Interface"
      ]
    },
    {
      "cell_type": "code",
      "execution_count": null,
      "id": "fa6cb0f6",
      "metadata": {
        "id": "fa6cb0f6"
      },
      "outputs": [],
      "source": [
        "# Define menu functions using pyinputplus or ipywidgets here"
      ]
    },
    {
      "cell_type": "markdown",
      "id": "d643a53c",
      "metadata": {
        "id": "d643a53c"
      },
      "source": [
        "## 🧩 Main Application Logic"
      ]
    },
    {
      "cell_type": "code",
      "execution_count": null,
      "id": "a9e2e805",
      "metadata": {
        "id": "a9e2e805"
      },
      "outputs": [],
      "source": [
        "# Tie everything together here\n",
        "def generate_weather_response(parsed_question, weather_data):\n",
        "    \"\"\"\n",
        "    Generate a natural language response to a weather question.\n",
        "\n",
        "    Args:\n",
        "        parsed_question (dict): Parsed question data\n",
        "        weather_data (dict): Weather data\n",
        "\n",
        "    Returns:\n",
        "        str: Natural language response\n",
        "    \"\"\"\n",
        "    pass"
      ]
    },
    {
      "cell_type": "markdown",
      "id": "fde44479",
      "metadata": {
        "id": "fde44479"
      },
      "source": [
        "## 🧪 Testing and Examples"
      ]
    },
    {
      "cell_type": "code",
      "execution_count": null,
      "id": "4e573901",
      "metadata": {
        "id": "4e573901"
      },
      "outputs": [],
      "source": [
        "# Include sample input/output for each function"
      ]
    },
    {
      "cell_type": "markdown",
      "id": "d2885880",
      "metadata": {
        "id": "d2885880"
      },
      "source": [
        "## 🗂️ AI Prompting Log (Optional)\n",
        "Add markdown cells here summarising prompts used or link to AI conversations in the `ai-conversations/` folder."
      ]
    }
  ],
  "metadata": {
    "language_info": {
      "name": "python"
    },
    "colab": {
      "provenance": [],
      "include_colab_link": true
    }
  },
  "nbformat": 4,
  "nbformat_minor": 5
}